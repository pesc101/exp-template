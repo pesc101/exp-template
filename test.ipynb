{
 "cells": [
  {
   "cell_type": "code",
   "execution_count": 1,
   "metadata": {},
   "outputs": [],
   "source": [
    "%load_ext autoreload\n",
    "%autoreload 2"
   ]
  },
  {
   "cell_type": "code",
   "execution_count": 13,
   "metadata": {},
   "outputs": [],
   "source": [
    "from typing import Literal\n",
    "\n",
    "from pydantic import BaseModel\n",
    "\n",
    "\n",
    "class ClassifiedSentence(BaseModel):\n",
    "    \"\"\"A sentence with a classification label.\"\"\"\n",
    "\n",
    "    sentence: str\n",
    "    reason: str\n",
    "    label: Literal[0, 1]\n",
    "\n",
    "\n",
    "class ClassifiedSentencesList(BaseModel):\n",
    "    \"\"\"A list of classified sentences.\"\"\"\n",
    "\n",
    "    sentences: list[ClassifiedSentence]\n",
    "\n",
    "    def __iter__(self):\n",
    "        return iter(self.sentences)\n"
   ]
  },
  {
   "cell_type": "code",
   "execution_count": 14,
   "metadata": {},
   "outputs": [],
   "source": [
    "import ast\n",
    "\n",
    "response =ClassifiedSentencesList.model_validate(ast.literal_eval('{\"sentences\": [{\"sentence\": \"Based on the story, Cotton was white.\", \"reason\": \"There is no story in the context to support this claim.\", \"label\": 0}]}'))"
   ]
  },
  {
   "cell_type": "code",
   "execution_count": 17,
   "metadata": {},
   "outputs": [
    {
     "name": "stdout",
     "output_type": "stream",
     "text": [
      "0\n"
     ]
    }
   ],
   "source": [
    "for sen in response:\n",
    "    print(sen.label)"
   ]
  },
  {
   "cell_type": "markdown",
   "metadata": {},
   "source": []
  }
 ],
 "metadata": {
  "kernelspec": {
   "display_name": ".venv",
   "language": "python",
   "name": "python3"
  },
  "language_info": {
   "codemirror_mode": {
    "name": "ipython",
    "version": 3
   },
   "file_extension": ".py",
   "mimetype": "text/x-python",
   "name": "python",
   "nbconvert_exporter": "python",
   "pygments_lexer": "ipython3",
   "version": "3.12.7"
  }
 },
 "nbformat": 4,
 "nbformat_minor": 2
}
